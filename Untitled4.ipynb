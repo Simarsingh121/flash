{
  "nbformat": 4,
  "nbformat_minor": 0,
  "metadata": {
    "colab": {
      "provenance": []
    },
    "kernelspec": {
      "name": "python3",
      "display_name": "Python 3"
    },
    "language_info": {
      "name": "python"
    }
  },
  "cells": [
    {
      "cell_type": "code",
      "execution_count": null,
      "metadata": {
        "id": "e8yXVozPoZap"
      },
      "outputs": [],
      "source": []
    },
    {
      "cell_type": "markdown",
      "source": [
        "1. What is a RESTful API?\n",
        "\n",
        "- A RESTful API is an interface that follows the principles of REST (Representational State Transfer). It uses HTTP methods like GET, POST, PUT, DELETE to allow communication between client and server in a stateless way.\n",
        "\n",
        "2. Explain the concept of API specification.\n",
        "\n",
        "- An API specification is a detailed description of how an API works. It defines endpoints, request/response formats, data types, authentication methods, and error handling. Common formats are OpenAPI (Swagger) and RAML.\n",
        "\n",
        "3. What is Flask, and why is it popular for building APIs?\n",
        "\n",
        "- Flask is a lightweight Python web framework. It’s popular because it is simple, flexible, easy to learn, has lots of extensions, and is great for small to medium APIs.\n",
        "\n",
        "4. What is routing in Flask?\n",
        "\n",
        "- Routing means mapping a URL path (like /users) to a specific function in Flask. When someone visits that URL, Flask calls the function linked to it.\n",
        "\n",
        "5. How do you create a simple Flask application?\n",
        "- from flask import Flask\n",
        "- app = Flask(__name__)\n",
        "\n",
        "- @app.route('/')\n",
        "- def home():\n",
        "    return \"Hello, Flask!\"\n",
        "\n",
        "- if __name__ == '__main__':\n",
        "    app.run(debug=True)\n",
        "\n",
        "6. What are HTTP methods used in RESTful APIs?\n",
        "\n",
        "- GET – fetch data\n",
        "\n",
        "- POST – create new data\n",
        "\n",
        "- PUT – update existing data\n",
        "\n",
        "- DELETE – remove data\n",
        "\n",
        "- PATCH – partially update data\n",
        "\n",
        "7. What is the purpose of the @app.route() decorator in Flask?\n",
        "\n",
        "- It connects a specific URL path to a Python function. Without it, Flask wouldn’t know which function to run for a request.\n",
        "\n",
        "8. What is the difference between GET and POST HTTP methods?\n",
        "\n",
        "- GET → sends data in the URL (used to read/fetch data).\n",
        "\n",
        "- POST → sends data in the request body (used to create/submit data).\n",
        "\n",
        "9. How do you handle errors in Flask APIs?\n",
        "\n",
        "- By using error handlers with @app.errorhandler(), or returning JSON with proper HTTP status codes. Example:\n",
        "\n",
        "- @app.errorhandler(404)\n",
        "def not_found(e):\n",
        "    return {\"error\": \"Not found\"}, 404\n",
        "\n",
        "10. How do you connect Flask to a SQL database?\n",
        "\n",
        "- Usually by using Flask-SQLAlchemy. You configure the database URI in app.config and then use models to interact with the DB.\n",
        "\n",
        "11. What is the role of Flask-SQLAlchemy?\n",
        "\n",
        "- It is an ORM (Object Relational Mapper) that lets you interact with SQL databases using Python classes instead of writing raw SQL.\n",
        "\n",
        "12. What are Flask blueprints, and how are they useful?\n",
        "\n",
        "- Blueprints allow you to organize routes and functions into separate modules. This makes large applications cleaner and easier to manage.\n",
        "\n",
        "13. What is the purpose of Flask's request object?\n",
        "\n",
        "- The request object lets you access incoming request data, such as form inputs, JSON body, headers, and query parameters.\n",
        "\n",
        "14. How do you create a RESTful API endpoint using Flask?\n",
        "- @app.route('/users', methods=['GET'])\n",
        "def get_users():\n",
        "    return jsonify({\"users\": [\"John\", \"Alice\"]})\n",
        "\n",
        "15. What is the purpose of Flask's jsonify() function?\n",
        "\n",
        "- It converts Python dictionaries or lists into JSON responses with the correct content type.\n",
        "\n",
        "16. Explain Flask’s url_for() function.\n",
        "\n",
        "- url_for() generates a URL for a given function dynamically. This helps avoid hardcoding paths. Example:\n",
        "\n",
        "url_for('home')\n",
        "\n",
        "17. How does Flask handle static files (CSS, JavaScript, etc.)?\n",
        "\n",
        "- By placing them in a folder called static/. Flask serves them automatically at /static/<filename>.\n",
        "\n",
        "18. What is an API specification, and how does it help in building a Flask API?\n",
        "\n",
        "- It acts like a blueprint of the API. Developers can see how endpoints should work, what data formats are expected, and how errors will be returned. It ensures consistency.\n",
        "\n",
        "19. What are HTTP status codes, and why are they important in a Flask API?\n",
        "\n",
        "- They are 3-digit codes that tell the client what happened:\n",
        "\n",
        "- 200 → Success\n",
        "\n",
        "- 201 → Created\n",
        "\n",
        "- 400 → Bad request\n",
        "\n",
        "- 404 → Not found\n",
        "\n",
        "- 500 → Server error\n",
        "\n",
        "- They help clients understand the result of their request.\n",
        "\n",
        "20. How do you handle POST requests in Flask?\n",
        "\n",
        "- By checking request.method == 'POST' or directly defining methods=['POST'] in the route. Data can be accessed with request.form or request.json.\n",
        "\n",
        "21. How would you secure a Flask API?\n",
        "\n",
        "- Use authentication (JWT, OAuth, API keys)\n",
        "\n",
        "- Validate inputs\n",
        "\n",
        "- Use HTTPS\n",
        "\n",
        "- Apply rate limiting\n",
        "\n",
        "- Handle errors properly\n",
        "\n",
        "22. What is the significance of the Flask-RESTful extension?\n",
        "\n",
        "- It simplifies building REST APIs by providing classes like Resource, handling routing, and formatting responses in a cleaner way.\n",
        "\n",
        "23. What is the role of Flask’s session object?\n",
        "\n",
        "- It stores user-specific data across requests using cookies. For example, login sessions can be tracked with it."
      ],
      "metadata": {
        "id": "J_puJ6wwoagU"
      }
    },
    {
      "cell_type": "markdown",
      "source": [
        "### **practical**"
      ],
      "metadata": {
        "id": "swSvxqkrpcdT"
      }
    },
    {
      "cell_type": "markdown",
      "source": [],
      "metadata": {
        "id": "4mjPyKt0pjDd"
      }
    },
    {
      "cell_type": "code",
      "source": [
        "!pip install flask flask-ngrok\n"
      ],
      "metadata": {
        "colab": {
          "base_uri": "https://localhost:8080/"
        },
        "id": "m2J_ldK6piEg",
        "outputId": "f5d6fdb4-e9ca-4a6b-cf92-39d7e7ce39e0"
      },
      "execution_count": 1,
      "outputs": [
        {
          "output_type": "stream",
          "name": "stdout",
          "text": [
            "Requirement already satisfied: flask in /usr/local/lib/python3.12/dist-packages (3.1.2)\n",
            "Collecting flask-ngrok\n",
            "  Downloading flask_ngrok-0.0.25-py3-none-any.whl.metadata (1.8 kB)\n",
            "Requirement already satisfied: blinker>=1.9.0 in /usr/local/lib/python3.12/dist-packages (from flask) (1.9.0)\n",
            "Requirement already satisfied: click>=8.1.3 in /usr/local/lib/python3.12/dist-packages (from flask) (8.2.1)\n",
            "Requirement already satisfied: itsdangerous>=2.2.0 in /usr/local/lib/python3.12/dist-packages (from flask) (2.2.0)\n",
            "Requirement already satisfied: jinja2>=3.1.2 in /usr/local/lib/python3.12/dist-packages (from flask) (3.1.6)\n",
            "Requirement already satisfied: markupsafe>=2.1.1 in /usr/local/lib/python3.12/dist-packages (from flask) (3.0.2)\n",
            "Requirement already satisfied: werkzeug>=3.1.0 in /usr/local/lib/python3.12/dist-packages (from flask) (3.1.3)\n",
            "Requirement already satisfied: requests in /usr/local/lib/python3.12/dist-packages (from flask-ngrok) (2.32.4)\n",
            "Requirement already satisfied: charset_normalizer<4,>=2 in /usr/local/lib/python3.12/dist-packages (from requests->flask-ngrok) (3.4.3)\n",
            "Requirement already satisfied: idna<4,>=2.5 in /usr/local/lib/python3.12/dist-packages (from requests->flask-ngrok) (3.10)\n",
            "Requirement already satisfied: urllib3<3,>=1.21.1 in /usr/local/lib/python3.12/dist-packages (from requests->flask-ngrok) (2.5.0)\n",
            "Requirement already satisfied: certifi>=2017.4.17 in /usr/local/lib/python3.12/dist-packages (from requests->flask-ngrok) (2025.8.3)\n",
            "Downloading flask_ngrok-0.0.25-py3-none-any.whl (3.1 kB)\n",
            "Installing collected packages: flask-ngrok\n",
            "Successfully installed flask-ngrok-0.0.25\n"
          ]
        }
      ]
    },
    {
      "cell_type": "code",
      "source": [
        "!pip install flask pyngrok\n"
      ],
      "metadata": {
        "colab": {
          "base_uri": "https://localhost:8080/"
        },
        "id": "pf5QSIiArP2A",
        "outputId": "5d381ba6-94d2-46cb-a86a-5447218f4b3d"
      },
      "execution_count": 4,
      "outputs": [
        {
          "output_type": "stream",
          "name": "stdout",
          "text": [
            "Requirement already satisfied: flask in /usr/local/lib/python3.12/dist-packages (3.1.2)\n",
            "Collecting pyngrok\n",
            "  Downloading pyngrok-7.4.0-py3-none-any.whl.metadata (8.1 kB)\n",
            "Requirement already satisfied: blinker>=1.9.0 in /usr/local/lib/python3.12/dist-packages (from flask) (1.9.0)\n",
            "Requirement already satisfied: click>=8.1.3 in /usr/local/lib/python3.12/dist-packages (from flask) (8.2.1)\n",
            "Requirement already satisfied: itsdangerous>=2.2.0 in /usr/local/lib/python3.12/dist-packages (from flask) (2.2.0)\n",
            "Requirement already satisfied: jinja2>=3.1.2 in /usr/local/lib/python3.12/dist-packages (from flask) (3.1.6)\n",
            "Requirement already satisfied: markupsafe>=2.1.1 in /usr/local/lib/python3.12/dist-packages (from flask) (3.0.2)\n",
            "Requirement already satisfied: werkzeug>=3.1.0 in /usr/local/lib/python3.12/dist-packages (from flask) (3.1.3)\n",
            "Requirement already satisfied: PyYAML>=5.1 in /usr/local/lib/python3.12/dist-packages (from pyngrok) (6.0.2)\n",
            "Downloading pyngrok-7.4.0-py3-none-any.whl (25 kB)\n",
            "Installing collected packages: pyngrok\n",
            "Successfully installed pyngrok-7.4.0\n"
          ]
        }
      ]
    },
    {
      "cell_type": "markdown",
      "source": [
        "1. How do you create a basic Flask application?"
      ],
      "metadata": {
        "id": "BlEhEWGzqE74"
      }
    },
    {
      "cell_type": "code",
      "source": [
        "@app.route('/')\n",
        "def home():\n",
        "    return \"Hello, Flask app running in Google Colab!\"\n"
      ],
      "metadata": {
        "id": "0RhWMlnVr-Oy"
      },
      "execution_count": 6,
      "outputs": []
    },
    {
      "cell_type": "markdown",
      "source": [
        "2. How do you serve static files like images or CSS in Flask?"
      ],
      "metadata": {
        "id": "K_Rdaod7sCvA"
      }
    },
    {
      "cell_type": "code",
      "source": [
        "@app.route('/static-demo')\n",
        "def static_demo():\n",
        "    return '<img src=\"https://via.placeholder.com/150\">'\n"
      ],
      "metadata": {
        "id": "ZNTEQMZzsHRG"
      },
      "execution_count": 7,
      "outputs": []
    },
    {
      "cell_type": "markdown",
      "source": [
        "3. How do you define different routes with different HTTP methods in Flask?"
      ],
      "metadata": {
        "id": "s6-DzLmqsTzy"
      }
    },
    {
      "cell_type": "code",
      "source": [
        "@app.route('/submit', methods=['GET', 'POST'])\n",
        "def submit():\n",
        "    if request.method == 'POST':\n",
        "        return \"Received via POST\"\n",
        "    return \"Send me data with POST request\"\n"
      ],
      "metadata": {
        "id": "3pZ3AgNysUs3"
      },
      "execution_count": 8,
      "outputs": []
    },
    {
      "cell_type": "markdown",
      "source": [
        "4. How do you render HTML templates in Flask?"
      ],
      "metadata": {
        "id": "5rwo1LMKsXSd"
      }
    },
    {
      "cell_type": "code",
      "source": [
        "from flask import render_template_string\n",
        "\n",
        "@app.route('/hello/<name>')\n",
        "def hello(name):\n",
        "    html = \"<h1>Hello, {{ name }}!</h1>\"\n",
        "    return render_template_string(html, name=name)\n"
      ],
      "metadata": {
        "id": "TzMbyoi6sbdD"
      },
      "execution_count": 9,
      "outputs": []
    },
    {
      "cell_type": "markdown",
      "source": [
        "5. How can you generate URLs for routes in Flask using url_for?"
      ],
      "metadata": {
        "id": "6R9AgfYoseCd"
      }
    },
    {
      "cell_type": "code",
      "source": [
        "from flask import url_for\n",
        "\n",
        "@app.route('/url-example')\n",
        "def url_example():\n",
        "    return f\"URL for home: {url_for('home')}\"\n"
      ],
      "metadata": {
        "id": "adAZTQZishus"
      },
      "execution_count": 10,
      "outputs": []
    },
    {
      "cell_type": "markdown",
      "source": [
        "6. How do you handle forms in Flask?"
      ],
      "metadata": {
        "id": "tVOw8_w6sj6a"
      }
    },
    {
      "cell_type": "code",
      "source": [
        "@app.route('/form', methods=['GET', 'POST'])\n",
        "def form():\n",
        "    if request.method == 'POST':\n",
        "        username = request.form.get('username')\n",
        "        return f\"Submitted username: {username}\"\n",
        "    return '''\n",
        "    <form method=\"POST\">\n",
        "        <input name=\"username\" placeholder=\"Enter name\">\n",
        "        <input type=\"submit\">\n",
        "    </form>\n",
        "    '''\n"
      ],
      "metadata": {
        "id": "ZTpes-ursruE"
      },
      "execution_count": 11,
      "outputs": []
    },
    {
      "cell_type": "markdown",
      "source": [
        "7. How can you validate form data in Flask?"
      ],
      "metadata": {
        "id": "OPbXFB1bsvXR"
      }
    },
    {
      "cell_type": "code",
      "source": [
        "@app.route('/validate', methods=['POST'])\n",
        "def validate():\n",
        "    username = request.form.get('username')\n",
        "    if not username:\n",
        "        return \"Username is required!\", 400\n",
        "    return f\"Valid username: {username}\"\n"
      ],
      "metadata": {
        "id": "nToResH-syGQ"
      },
      "execution_count": 12,
      "outputs": []
    },
    {
      "cell_type": "markdown",
      "source": [
        "8. How do you manage sessions in Flask?"
      ],
      "metadata": {
        "id": "WIJGJYfHs01z"
      }
    },
    {
      "cell_type": "code",
      "source": [
        "app.secret_key = \"secret123\"\n",
        "\n",
        "from flask import session\n",
        "\n",
        "@app.route('/login/<user>')\n",
        "def login(user):\n",
        "    session['user'] = user\n",
        "    return f\"Logged in as {user}\"\n",
        "\n",
        "@app.route('/profile')\n",
        "def profile():\n",
        "    user = session.get('user')\n",
        "    return f\"Hello {user}\" if user else \"Not logged in\"\n"
      ],
      "metadata": {
        "id": "Iy1mL88Xs3eH"
      },
      "execution_count": 13,
      "outputs": []
    },
    {
      "cell_type": "markdown",
      "source": [
        "9. How do you redirect to a different route in Flask?"
      ],
      "metadata": {
        "id": "jFv4AvLzs7e-"
      }
    },
    {
      "cell_type": "code",
      "source": [
        "from flask import redirect\n",
        "\n",
        "@app.route('/go-home')\n",
        "def go_home():\n",
        "    return redirect(url_for('home'))\n"
      ],
      "metadata": {
        "id": "hXW6loQPs6-1"
      },
      "execution_count": null,
      "outputs": []
    },
    {
      "cell_type": "markdown",
      "source": [
        "10. How do you handle errors in Flask (e.g., 404)?"
      ],
      "metadata": {
        "id": "f3Nymjfnuaju"
      }
    },
    {
      "cell_type": "code",
      "source": [
        "@app.errorhandler(404)\n",
        "def not_found(e):\n",
        "    return \"Oops! Page not found.\", 404\n"
      ],
      "metadata": {
        "id": "giDjxSCwv8K_"
      },
      "execution_count": 14,
      "outputs": []
    },
    {
      "cell_type": "markdown",
      "source": [
        "11. How do you structure a Flask app using Blueprints?"
      ],
      "metadata": {
        "id": "JpN7RthMwARz"
      }
    },
    {
      "cell_type": "code",
      "source": [
        "from flask import Blueprint\n",
        "\n",
        "bp = Blueprint('demo', __name__)\n",
        "\n",
        "@bp.route('/blueprint')\n",
        "def bp_route():\n",
        "    return \"Hello from Blueprint!\"\n",
        "\n",
        "app.register_blueprint(bp, url_prefix=\"/bp\")\n"
      ],
      "metadata": {
        "id": "jpGjctAbwKQY"
      },
      "execution_count": 15,
      "outputs": []
    },
    {
      "cell_type": "markdown",
      "source": [
        "12. How do you define a custom Jinja filter in Flask?"
      ],
      "metadata": {
        "id": "Yos4mmjMwNnC"
      }
    },
    {
      "cell_type": "code",
      "source": [
        "def reverse_string(s):\n",
        "    return s[::-1]\n",
        "\n",
        "app.jinja_env.filters['reverse'] = reverse_string\n",
        "\n",
        "@app.route('/filter/<word>')\n",
        "def filter_demo(word):\n",
        "    html = \"Original: {{ word }} | Reversed: {{ word|reverse }}\"\n",
        "    return render_template_string(html, word=word)\n"
      ],
      "metadata": {
        "id": "MAwcddjcwaqj"
      },
      "execution_count": 16,
      "outputs": []
    },
    {
      "cell_type": "markdown",
      "source": [
        "13. How can you redirect with query parameters in Flask?"
      ],
      "metadata": {
        "id": "nwp_RoKpwczW"
      }
    },
    {
      "cell_type": "code",
      "source": [
        "@app.route('/search')\n",
        "def search():\n",
        "    query = request.args.get('q', 'none')\n",
        "    return f\"Search results for: {query}\"\n",
        "\n",
        "@app.route('/go-search')\n",
        "def go_search():\n",
        "    return redirect(url_for('search', q=\"flask tutorial\"))\n"
      ],
      "metadata": {
        "id": "p6Isx7oqwiIG"
      },
      "execution_count": null,
      "outputs": []
    },
    {
      "cell_type": "markdown",
      "source": [
        "14. How do you return JSON responses in Flask?"
      ],
      "metadata": {
        "id": "HVqmhPjmwg4-"
      }
    },
    {
      "cell_type": "code",
      "source": [
        "from flask import jsonify\n",
        "\n",
        "@app.route('/json')\n",
        "def json_demo():\n",
        "    return jsonify({\"status\": \"success\", \"data\": [1, 2, 3]})\n"
      ],
      "metadata": {
        "id": "z8LBiMNCwQpN"
      },
      "execution_count": 17,
      "outputs": []
    },
    {
      "cell_type": "markdown",
      "source": [
        "15. How do you capture URL parameters in Flask?"
      ],
      "metadata": {
        "id": "vswt9IUZwrAK"
      }
    },
    {
      "cell_type": "code",
      "source": [
        "@app.route('/user/<int:user_id>')\n",
        "def user_profile(user_id):\n",
        "    return f\"User ID is {user_id}\"\n"
      ],
      "metadata": {
        "id": "KsQ-N7zWwvFL"
      },
      "execution_count": 18,
      "outputs": []
    }
  ]
}